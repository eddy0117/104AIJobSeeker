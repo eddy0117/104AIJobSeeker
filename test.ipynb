{
 "cells": [
  {
   "cell_type": "code",
   "execution_count": 21,
   "metadata": {},
   "outputs": [],
   "source": [
    "import json\n",
    "\n",
    "with open('jobcat.json', 'r') as f:\n",
    "    data = json.load(f)\n",
    "\n",
    "new_data = []\n",
    "\n",
    "for d0 in data['data']:\n",
    "    new_data.append([d0['des'], d0['no']])\n",
    "    if isinstance(d0['n'], list):\n",
    "        for d1 in d0['n']:\n",
    "            new_data.append([d1['des'], d1['no']])\n",
    "            if isinstance(d1['n'], list):\n",
    "                for d2 in d1['n']:\n",
    "                    new_data.append([d2['des'], d2['no']])\n",
    "new_dict = {}\n",
    "\n",
    "for nd in new_data:\n",
    "    if nd[0] not in new_dict:\n",
    "        new_dict[nd[1]] = nd[0]"
   ]
  },
  {
   "cell_type": "code",
   "execution_count": 15,
   "metadata": {},
   "outputs": [],
   "source": [
    "with open('jobcatsorted.json', 'r') as f:\n",
    "    data = json.load(f)"
   ]
  },
  {
   "cell_type": "code",
   "execution_count": 24,
   "metadata": {},
   "outputs": [],
   "source": [
    "with open('jobcat_dict.json', 'w') as f:\n",
    "    json.dump(new_dict, f, indent=4, ensure_ascii=False)"
   ]
  }
 ],
 "metadata": {
  "kernelspec": {
   "display_name": "openai",
   "language": "python",
   "name": "python3"
  },
  "language_info": {
   "codemirror_mode": {
    "name": "ipython",
    "version": 3
   },
   "file_extension": ".py",
   "mimetype": "text/x-python",
   "name": "python",
   "nbconvert_exporter": "python",
   "pygments_lexer": "ipython3",
   "version": "3.9.21"
  }
 },
 "nbformat": 4,
 "nbformat_minor": 2
}
